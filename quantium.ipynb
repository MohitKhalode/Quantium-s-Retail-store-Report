{
 "cells": [
  {
   "cell_type": "code",
   "execution_count": 36,
   "id": "f4286ee8-6056-4e7d-8918-786a4a3de66f",
   "metadata": {},
   "outputs": [
    {
     "data": {
      "text/plain": [
       "(   LYLTY_CARD_NBR               LIFESTAGE PREMIUM_CUSTOMER\n",
       " 0            1000   YOUNG SINGLES/COUPLES          Premium\n",
       " 1            1002   YOUNG SINGLES/COUPLES       Mainstream\n",
       " 2            1003          YOUNG FAMILIES           Budget\n",
       " 3            1004   OLDER SINGLES/COUPLES       Mainstream\n",
       " 4            1005  MIDAGE SINGLES/COUPLES       Mainstream,\n",
       "     DATE  STORE_NBR  LYLTY_CARD_NBR  TXN_ID  PROD_NBR  \\\n",
       " 0  43390          1            1000       1         5   \n",
       " 1  43599          1            1307     348        66   \n",
       " 2  43605          1            1343     383        61   \n",
       " 3  43329          2            2373     974        69   \n",
       " 4  43330          2            2426    1038       108   \n",
       " \n",
       "                                   PROD_NAME  PROD_QTY  TOT_SALES  \n",
       " 0    Natural Chip        Compny SeaSalt175g         2        6.0  \n",
       " 1                  CCs Nacho Cheese    175g         3        6.3  \n",
       " 2    Smiths Crinkle Cut  Chips Chicken 170g         2        2.9  \n",
       " 3    Smiths Chip Thinly  S/Cream&Onion 175g         5       15.0  \n",
       " 4  Kettle Tortilla ChpsHny&Jlpno Chili 150g         3       13.8  )"
      ]
     },
     "execution_count": 36,
     "metadata": {},
     "output_type": "execute_result"
    }
   ],
   "source": [
    "import pandas as pd\n",
    "\n",
    "# Load the CSV and Excel files\n",
    "# Read the CSV and the Excel files\n",
    "purchase_behaviour_df = pd.read_csv('QVI_purchase_behaviour.csv', header=0)\n",
    "transaction_data_df = pd.read_excel('QVI_transaction_data.xlsx')\n",
    "\n",
    "# Display the first few rows of both dataframes for initial inspection\n",
    "purchase_behaviour_df.head(), transaction_data_df.head()\n"
   ]
  },
  {
   "cell_type": "code",
   "execution_count": 39,
   "id": "4f00d2a0-b90b-4bb1-bf7a-f3eb4f4ec030",
   "metadata": {},
   "outputs": [
    {
     "data": {
      "text/plain": [
       "((264835, 10),\n",
       "     date  store_nbr  lylty_card_nbr  txn_id  prod_nbr  \\\n",
       " 0  43390          1            1000       1         5   \n",
       " 1  43599          1            1307     348        66   \n",
       " 2  43605          1            1343     383        61   \n",
       " 3  43329          2            2373     974        69   \n",
       " 4  43330          2            2426    1038       108   \n",
       " \n",
       "                                   prod_name  prod_qty  tot_sales  \\\n",
       " 0    Natural Chip        Compny SeaSalt175g         2        6.0   \n",
       " 1                  CCs Nacho Cheese    175g         3        6.3   \n",
       " 2    Smiths Crinkle Cut  Chips Chicken 170g         2        2.9   \n",
       " 3    Smiths Chip Thinly  S/Cream&Onion 175g         5       15.0   \n",
       " 4  Kettle Tortilla ChpsHny&Jlpno Chili 150g         3       13.8   \n",
       " \n",
       "                 lifestage premium_customer  \n",
       " 0   YOUNG SINGLES/COUPLES          Premium  \n",
       " 1  MIDAGE SINGLES/COUPLES           Budget  \n",
       " 2  MIDAGE SINGLES/COUPLES           Budget  \n",
       " 3  MIDAGE SINGLES/COUPLES           Budget  \n",
       " 4  MIDAGE SINGLES/COUPLES           Budget  )"
      ]
     },
     "execution_count": 39,
     "metadata": {},
     "output_type": "execute_result"
    }
   ],
   "source": [
    "# Check for duplicates and drop them\n",
    "purchase_behaviour_df = purchase_behaviour_df.drop_duplicates()\n",
    "transaction_data_df = transaction_data_df.drop_duplicates()\n",
    "\n",
    "# Standardize column names to lowercase for consistency\n",
    "purchase_behaviour_df.columns = purchase_behaviour_df.columns.str.lower()\n",
    "transaction_data_df.columns = transaction_data_df.columns.str.lower()\n",
    "\n",
    "# Check for and remove null values\n",
    "purchase_behaviour_df = purchase_behaviour_df.dropna()\n",
    "transaction_data_df = transaction_data_df.dropna()\n",
    "\n",
    "# Merge the datasets on 'lylty_card_nbr'\n",
    "merged_df = pd.merge(transaction_data_df, purchase_behaviour_df, on='lylty_card_nbr', how='inner')\n",
    "\n",
    "# Display the shape of the merged dataframe and the first few rows\n",
    "merged_df.shape, merged_df.head()\n"
   ]
  },
  {
   "cell_type": "code",
   "execution_count": null,
   "id": "14c7c913-91f1-44ad-a58d-7df8d64b533a",
   "metadata": {},
   "outputs": [],
   "source": []
  }
 ],
 "metadata": {
  "kernelspec": {
   "display_name": "Python 3 (ipykernel)",
   "language": "python",
   "name": "python3"
  },
  "language_info": {
   "codemirror_mode": {
    "name": "ipython",
    "version": 3
   },
   "file_extension": ".py",
   "mimetype": "text/x-python",
   "name": "python",
   "nbconvert_exporter": "python",
   "pygments_lexer": "ipython3",
   "version": "3.12.6"
  }
 },
 "nbformat": 4,
 "nbformat_minor": 5
}
